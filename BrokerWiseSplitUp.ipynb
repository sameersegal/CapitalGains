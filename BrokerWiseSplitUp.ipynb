{
 "cells": [
  {
   "cell_type": "code",
   "execution_count": null,
   "metadata": {},
   "outputs": [],
   "source": [
    "import numpy as np\n",
    "import pandas as pd\n",
    "from sheets import download_ledger, load_ledger\n",
    "from dotenv import load_dotenv\n",
    "from datetime import datetime\n",
    "load_dotenv()"
   ]
  },
  {
   "cell_type": "code",
   "execution_count": null,
   "metadata": {},
   "outputs": [],
   "source": [
    "df = download_ledger()\n",
    "df.head()"
   ]
  },
  {
   "cell_type": "code",
   "execution_count": null,
   "metadata": {},
   "outputs": [],
   "source": [
    "df.shape"
   ]
  },
  {
   "cell_type": "code",
   "execution_count": null,
   "metadata": {},
   "outputs": [],
   "source": [
    "owner = \"DC\"\n",
    "df = df[df['Owner'].apply(lambda x: x.startswith(owner))]\n",
    "df = df[df['Currency'] == 'USD']\n",
    "df = df[df['TradeTime'] < datetime(2024, 4, 1)]\n"
   ]
  },
  {
   "cell_type": "code",
   "execution_count": null,
   "metadata": {},
   "outputs": [],
   "source": [
    "df.shape"
   ]
  },
  {
   "cell_type": "code",
   "execution_count": null,
   "metadata": {},
   "outputs": [],
   "source": [
    "pivot = df.pivot_table(index=['Platform', 'Symbol'], values='Amount', aggfunc='sum')\n",
    "pivot = pivot.reset_index()\n",
    "pivot[pivot['Amount'] > 0]"
   ]
  },
  {
   "cell_type": "code",
   "execution_count": null,
   "metadata": {},
   "outputs": [],
   "source": [
    "mtch = df[df['Symbol'] == 'MTCH']\n",
    "mtch"
   ]
  },
  {
   "cell_type": "code",
   "execution_count": null,
   "metadata": {},
   "outputs": [],
   "source": [
    "# check if there are any transfer in\n",
    "any(mtch['B/S'] == 'TransferIn')"
   ]
  },
  {
   "cell_type": "code",
   "execution_count": null,
   "metadata": {},
   "outputs": [],
   "source": [
    "brokers = {broker:0 for broker in mtch['Platform'].unique()}\n",
    "brokers"
   ]
  },
  {
   "cell_type": "code",
   "execution_count": null,
   "metadata": {},
   "outputs": [],
   "source": [
    "for i, row in mtch.iterrows():\n",
    "    if row['B/S'] == 'Bought':\n",
    "        brokers[row['Platform']] += row['Amount'] * row['Price in INR']\n",
    "    elif row['B/S'] == 'TransferOut':\n",
    "        brokers['transfer'] = brokers[row['Platform']]\n",
    "        brokers[row['Platform']] = 0\n",
    "    elif row['B/S'] == 'TransferIn':\n",
    "        brokers[row['Platform']] = brokers['transfer']\n",
    "        brokers['transfer'] = 0\n",
    "brokers"
   ]
  },
  {
   "cell_type": "code",
   "execution_count": null,
   "metadata": {},
   "outputs": [],
   "source": [
    "pivot = mtch.pivot_table(index='Platform', values='Amount', aggfunc='sum').reset_index()\n",
    "pivot"
   ]
  },
  {
   "cell_type": "code",
   "execution_count": null,
   "metadata": {},
   "outputs": [],
   "source": [
    "pivot.loc[:,'Cost'] = pivot['Platform'].apply(lambda x: brokers[x])\n",
    "pivot"
   ]
  },
  {
   "cell_type": "code",
   "execution_count": null,
   "metadata": {},
   "outputs": [],
   "source": [
    "def compute_cost(df, debug=None):\n",
    "\n",
    "    df.sort_values(['TradeTime', 'B/S'], ascending=[True, False], inplace=True)\n",
    "\n",
    "    if debug in ['DEBUG', 'INFO']:\n",
    "        display(df)\n",
    "\n",
    "    brokers = {broker: {'q':0,'i': 0} for broker in df['Platform'].unique()}\n",
    "\n",
    "    for _, row in df.iterrows():\n",
    "        action = row['B/S'].lower()\n",
    "        platform = row['Platform']\n",
    "\n",
    "        if debug == 'INFO':\n",
    "            display(row)\n",
    "            display(\"Before\")\n",
    "            display(brokers)\n",
    "\n",
    "        if action == 'bought':\n",
    "            brokers[platform]['i'] += row['Amount'] * row['Price in INR']\n",
    "            brokers[platform]['q'] += row['Amount']\n",
    "        elif action == 'sold':\n",
    "            brokers[platform]['i'] -= brokers[platform]['i'] / brokers[platform]['q'] * abs(row['Amount'])\n",
    "            brokers[platform]['q'] -= abs(row['Amount'])\n",
    "        elif action == 'transferout':\n",
    "            brokers['transfer'] = brokers[platform]\n",
    "            brokers[platform] = {'q':0,'i': 0}\n",
    "        elif action == 'transferin':\n",
    "            brokers[platform] = brokers['transfer']\n",
    "            brokers['transfer'] = {'q':0,'i': 0}\n",
    "\n",
    "        if debug == 'INFO':\n",
    "            display(\"After\")\n",
    "            display(brokers)\n",
    "    # brokers\n",
    "\n",
    "    pivot = df.pivot_table(index='Platform', values='Amount', aggfunc='sum').reset_index()\n",
    "    pivot.loc[:,'Cost'] = pivot['Platform'].apply(lambda x: brokers[x]['i'])\n",
    "\n",
    "    pivot = pivot[pivot['Amount'] > 0]\n",
    "    \n",
    "    if debug in ['DEBUG', 'INFO']:\n",
    "        display(pivot)\n",
    "    return pivot"
   ]
  },
  {
   "cell_type": "code",
   "execution_count": null,
   "metadata": {},
   "outputs": [],
   "source": [
    "compute_cost(mtch)"
   ]
  },
  {
   "cell_type": "code",
   "execution_count": null,
   "metadata": {},
   "outputs": [],
   "source": [
    "stocks = ['NVDA']\n",
    "for stock in stocks:\n",
    "    # print(stock)\n",
    "    stockdf = df[df['Symbol'] == stock]\n",
    "    compute_cost(stockdf, debug='DEBUG')"
   ]
  },
  {
   "cell_type": "code",
   "execution_count": null,
   "metadata": {},
   "outputs": [],
   "source": []
  }
 ],
 "metadata": {
  "kernelspec": {
   "display_name": "cgcalc-tsIuNWQI-py3.10",
   "language": "python",
   "name": "python3"
  },
  "language_info": {
   "codemirror_mode": {
    "name": "ipython",
    "version": 3
   },
   "file_extension": ".py",
   "mimetype": "text/x-python",
   "name": "python",
   "nbconvert_exporter": "python",
   "pygments_lexer": "ipython3",
   "version": "3.10.12"
  }
 },
 "nbformat": 4,
 "nbformat_minor": 2
}
